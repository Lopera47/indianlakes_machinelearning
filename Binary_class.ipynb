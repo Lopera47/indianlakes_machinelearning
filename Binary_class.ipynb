{
 "cells": [
  {
   "cell_type": "code",
   "execution_count": 2,
   "metadata": {},
   "outputs": [],
   "source": [
    "# In this notebook I am going to build the Binary Classification model\n",
    "import matplotlib.pyplot as plt\n",
    "import numpy as np\n",
    "import pandas as pd\n",
    "import seaborn as sns\n",
    "from functions import *"
   ]
  },
  {
   "cell_type": "code",
   "execution_count": 3,
   "metadata": {},
   "outputs": [
    {
     "data": {
      "text/html": [
       "<div>\n",
       "<style scoped>\n",
       "    .dataframe tbody tr th:only-of-type {\n",
       "        vertical-align: middle;\n",
       "    }\n",
       "\n",
       "    .dataframe tbody tr th {\n",
       "        vertical-align: top;\n",
       "    }\n",
       "\n",
       "    .dataframe thead th {\n",
       "        text-align: right;\n",
       "    }\n",
       "</style>\n",
       "<table border=\"1\" class=\"dataframe\">\n",
       "  <thead>\n",
       "    <tr style=\"text-align: right;\">\n",
       "      <th></th>\n",
       "      <th>STN\\nCode</th>\n",
       "      <th>Name of Monitoring Location</th>\n",
       "      <th>Type Water Body</th>\n",
       "      <th>State Name</th>\n",
       "      <th>TemperatureC_mean</th>\n",
       "      <th>Dissolved Oxygen_mg/L_mean</th>\n",
       "      <th>pH_mean</th>\n",
       "      <th>Conductivity_mhos/cm_mean</th>\n",
       "      <th>BOD_mg/L_mean</th>\n",
       "      <th>Nitrate_N_mg/L_mean</th>\n",
       "      <th>Fecal_Coliform_MPN/100ml_mean</th>\n",
       "      <th>Total_Coliform_MPN/100ml_mean</th>\n",
       "    </tr>\n",
       "  </thead>\n",
       "  <tbody>\n",
       "    <tr>\n",
       "      <th>0</th>\n",
       "      <td>4368</td>\n",
       "      <td>KOLLERU LAKE KOKKIRAYALANKA (V), KAILALUR (M)</td>\n",
       "      <td>LAKE</td>\n",
       "      <td>ANDHRA PRADESH</td>\n",
       "      <td>25.5</td>\n",
       "      <td>4.85</td>\n",
       "      <td>7.50</td>\n",
       "      <td>2702.5</td>\n",
       "      <td>2.40</td>\n",
       "      <td>2.310</td>\n",
       "      <td>15.0</td>\n",
       "      <td>165.0</td>\n",
       "    </tr>\n",
       "    <tr>\n",
       "      <th>1</th>\n",
       "      <td>2353</td>\n",
       "      <td>KONDAKARLA-AAVA LAKE, PARAWADA PHARMA CITY, VI...</td>\n",
       "      <td>LAKE</td>\n",
       "      <td>ANDHRA PRADESH</td>\n",
       "      <td>27.5</td>\n",
       "      <td>4.90</td>\n",
       "      <td>7.35</td>\n",
       "      <td>889.0</td>\n",
       "      <td>3.25</td>\n",
       "      <td>2.165</td>\n",
       "      <td>19.0</td>\n",
       "      <td>195.0</td>\n",
       "    </tr>\n",
       "    <tr>\n",
       "      <th>2</th>\n",
       "      <td>1790</td>\n",
       "      <td>PULICATE LAKE , NELLORE DIST</td>\n",
       "      <td>LAKE</td>\n",
       "      <td>ANDHRA PRADESH</td>\n",
       "      <td>21.0</td>\n",
       "      <td>5.10</td>\n",
       "      <td>7.70</td>\n",
       "      <td>42450.0</td>\n",
       "      <td>2.60</td>\n",
       "      <td>1.420</td>\n",
       "      <td>3.0</td>\n",
       "      <td>98.5</td>\n",
       "    </tr>\n",
       "    <tr>\n",
       "      <th>3</th>\n",
       "      <td>4391</td>\n",
       "      <td>CHENGAMBAKAM TANK IN SRI CITY SEZ,\\nTIRUPATHI</td>\n",
       "      <td>TANK</td>\n",
       "      <td>ANDHRA PRADESH</td>\n",
       "      <td>25.5</td>\n",
       "      <td>5.80</td>\n",
       "      <td>7.10</td>\n",
       "      <td>328.0</td>\n",
       "      <td>1.75</td>\n",
       "      <td>1.320</td>\n",
       "      <td>194.5</td>\n",
       "      <td>359.5</td>\n",
       "    </tr>\n",
       "    <tr>\n",
       "      <th>4</th>\n",
       "      <td>4921</td>\n",
       "      <td>ANNAMAYYA PROJECT ON CHEYYERU\\nRESERVOIR</td>\n",
       "      <td>Wetland</td>\n",
       "      <td>ANDHRA PRADESH</td>\n",
       "      <td>25.5</td>\n",
       "      <td>5.95</td>\n",
       "      <td>7.65</td>\n",
       "      <td>615.0</td>\n",
       "      <td>1.65</td>\n",
       "      <td>0.675</td>\n",
       "      <td>166.0</td>\n",
       "      <td>483.5</td>\n",
       "    </tr>\n",
       "  </tbody>\n",
       "</table>\n",
       "</div>"
      ],
      "text/plain": [
       "   STN\\nCode                        Name of Monitoring Location  \\\n",
       "0       4368      KOLLERU LAKE KOKKIRAYALANKA (V), KAILALUR (M)   \n",
       "1       2353  KONDAKARLA-AAVA LAKE, PARAWADA PHARMA CITY, VI...   \n",
       "2       1790                       PULICATE LAKE , NELLORE DIST   \n",
       "3       4391      CHENGAMBAKAM TANK IN SRI CITY SEZ,\\nTIRUPATHI   \n",
       "4       4921           ANNAMAYYA PROJECT ON CHEYYERU\\nRESERVOIR   \n",
       "\n",
       "  Type Water Body      State Name  TemperatureC_mean  \\\n",
       "0            LAKE  ANDHRA PRADESH               25.5   \n",
       "1            LAKE  ANDHRA PRADESH               27.5   \n",
       "2            LAKE  ANDHRA PRADESH               21.0   \n",
       "3            TANK  ANDHRA PRADESH               25.5   \n",
       "4         Wetland  ANDHRA PRADESH               25.5   \n",
       "\n",
       "   Dissolved Oxygen_mg/L_mean  pH_mean  Conductivity_mhos/cm_mean  \\\n",
       "0                        4.85     7.50                     2702.5   \n",
       "1                        4.90     7.35                      889.0   \n",
       "2                        5.10     7.70                    42450.0   \n",
       "3                        5.80     7.10                      328.0   \n",
       "4                        5.95     7.65                      615.0   \n",
       "\n",
       "   BOD_mg/L_mean  Nitrate_N_mg/L_mean  Fecal_Coliform_MPN/100ml_mean  \\\n",
       "0           2.40                2.310                           15.0   \n",
       "1           3.25                2.165                           19.0   \n",
       "2           2.60                1.420                            3.0   \n",
       "3           1.75                1.320                          194.5   \n",
       "4           1.65                0.675                          166.0   \n",
       "\n",
       "   Total_Coliform_MPN/100ml_mean  \n",
       "0                          165.0  \n",
       "1                          195.0  \n",
       "2                           98.5  \n",
       "3                          359.5  \n",
       "4                          483.5  "
      ]
     },
     "execution_count": 3,
     "metadata": {},
     "output_type": "execute_result"
    }
   ],
   "source": [
    "# Read the data\n",
    "data_lakes_mean = pd.read_csv(\"out\\processed_data_lakes_mean.csv\", encoding = 'cp1252')\n",
    "data_lakes_mean.head()"
   ]
  },
  {
   "cell_type": "code",
   "execution_count": 4,
   "metadata": {},
   "outputs": [
    {
     "name": "stdout",
     "output_type": "stream",
     "text": [
      "<class 'pandas.core.frame.DataFrame'>\n",
      "RangeIndex: 542 entries, 0 to 541\n",
      "Data columns (total 12 columns):\n",
      " #   Column                         Non-Null Count  Dtype  \n",
      "---  ------                         --------------  -----  \n",
      " 0   STN\n",
      "Code                       542 non-null    int64  \n",
      " 1   Name of Monitoring Location    542 non-null    object \n",
      " 2   Type Water Body                542 non-null    object \n",
      " 3   State Name                     542 non-null    object \n",
      " 4   TemperatureC_mean              542 non-null    float64\n",
      " 5   Dissolved Oxygen_mg/L_mean     542 non-null    float64\n",
      " 6   pH_mean                        542 non-null    float64\n",
      " 7   Conductivity_mhos/cm_mean      542 non-null    float64\n",
      " 8   BOD_mg/L_mean                  542 non-null    float64\n",
      " 9   Nitrate_N_mg/L_mean            542 non-null    float64\n",
      " 10  Fecal_Coliform_MPN/100ml_mean  542 non-null    float64\n",
      " 11  Total_Coliform_MPN/100ml_mean  542 non-null    float64\n",
      "dtypes: float64(8), int64(1), object(3)\n",
      "memory usage: 50.9+ KB\n"
     ]
    }
   ],
   "source": [
    "# Data info\n",
    "data_lakes_mean.info()"
   ]
  },
  {
   "cell_type": "code",
   "execution_count": 5,
   "metadata": {},
   "outputs": [
    {
     "data": {
      "text/html": [
       "<div>\n",
       "<style scoped>\n",
       "    .dataframe tbody tr th:only-of-type {\n",
       "        vertical-align: middle;\n",
       "    }\n",
       "\n",
       "    .dataframe tbody tr th {\n",
       "        vertical-align: top;\n",
       "    }\n",
       "\n",
       "    .dataframe thead th {\n",
       "        text-align: right;\n",
       "    }\n",
       "</style>\n",
       "<table border=\"1\" class=\"dataframe\">\n",
       "  <thead>\n",
       "    <tr style=\"text-align: right;\">\n",
       "      <th></th>\n",
       "      <th>STN\\nCode</th>\n",
       "      <th>Name of Monitoring Location</th>\n",
       "      <th>Type Water Body</th>\n",
       "      <th>State Name</th>\n",
       "      <th>TemperatureC_mean</th>\n",
       "      <th>Dissolved Oxygen_mg/L_mean</th>\n",
       "      <th>pH_mean</th>\n",
       "      <th>Conductivity_mhos/cm_mean</th>\n",
       "      <th>BOD_mg/L_mean</th>\n",
       "      <th>Nitrate_N_mg/L_mean</th>\n",
       "      <th>Fecal_Coliform_MPN/100ml_mean</th>\n",
       "      <th>Total_Coliform_MPN/100ml_mean</th>\n",
       "    </tr>\n",
       "  </thead>\n",
       "  <tbody>\n",
       "    <tr>\n",
       "      <th>0</th>\n",
       "      <td>4368</td>\n",
       "      <td>KOLLERU LAKE KOKKIRAYALANKA (V), KAILALUR (M)</td>\n",
       "      <td>LAKE</td>\n",
       "      <td>ANDHRA PRADESH</td>\n",
       "      <td>25.5</td>\n",
       "      <td>4.85</td>\n",
       "      <td>0</td>\n",
       "      <td>2702.5</td>\n",
       "      <td>2.40</td>\n",
       "      <td>2.310</td>\n",
       "      <td>15.0</td>\n",
       "      <td>165.0</td>\n",
       "    </tr>\n",
       "    <tr>\n",
       "      <th>1</th>\n",
       "      <td>2353</td>\n",
       "      <td>KONDAKARLA-AAVA LAKE, PARAWADA PHARMA CITY, VI...</td>\n",
       "      <td>LAKE</td>\n",
       "      <td>ANDHRA PRADESH</td>\n",
       "      <td>27.5</td>\n",
       "      <td>4.90</td>\n",
       "      <td>0</td>\n",
       "      <td>889.0</td>\n",
       "      <td>3.25</td>\n",
       "      <td>2.165</td>\n",
       "      <td>19.0</td>\n",
       "      <td>195.0</td>\n",
       "    </tr>\n",
       "    <tr>\n",
       "      <th>2</th>\n",
       "      <td>1790</td>\n",
       "      <td>PULICATE LAKE , NELLORE DIST</td>\n",
       "      <td>LAKE</td>\n",
       "      <td>ANDHRA PRADESH</td>\n",
       "      <td>21.0</td>\n",
       "      <td>5.10</td>\n",
       "      <td>0</td>\n",
       "      <td>42450.0</td>\n",
       "      <td>2.60</td>\n",
       "      <td>1.420</td>\n",
       "      <td>3.0</td>\n",
       "      <td>98.5</td>\n",
       "    </tr>\n",
       "    <tr>\n",
       "      <th>3</th>\n",
       "      <td>4391</td>\n",
       "      <td>CHENGAMBAKAM TANK IN SRI CITY SEZ,\\nTIRUPATHI</td>\n",
       "      <td>TANK</td>\n",
       "      <td>ANDHRA PRADESH</td>\n",
       "      <td>25.5</td>\n",
       "      <td>5.80</td>\n",
       "      <td>1</td>\n",
       "      <td>328.0</td>\n",
       "      <td>1.75</td>\n",
       "      <td>1.320</td>\n",
       "      <td>194.5</td>\n",
       "      <td>359.5</td>\n",
       "    </tr>\n",
       "    <tr>\n",
       "      <th>4</th>\n",
       "      <td>4921</td>\n",
       "      <td>ANNAMAYYA PROJECT ON CHEYYERU\\nRESERVOIR</td>\n",
       "      <td>Wetland</td>\n",
       "      <td>ANDHRA PRADESH</td>\n",
       "      <td>25.5</td>\n",
       "      <td>5.95</td>\n",
       "      <td>0</td>\n",
       "      <td>615.0</td>\n",
       "      <td>1.65</td>\n",
       "      <td>0.675</td>\n",
       "      <td>166.0</td>\n",
       "      <td>483.5</td>\n",
       "    </tr>\n",
       "    <tr>\n",
       "      <th>5</th>\n",
       "      <td>4936</td>\n",
       "      <td>ANUMANAPALLE CHERUVU</td>\n",
       "      <td>Wetland</td>\n",
       "      <td>ANDHRA PRADESH</td>\n",
       "      <td>22.5</td>\n",
       "      <td>7.15</td>\n",
       "      <td>0</td>\n",
       "      <td>239.0</td>\n",
       "      <td>1.70</td>\n",
       "      <td>1.105</td>\n",
       "      <td>3.5</td>\n",
       "      <td>106.5</td>\n",
       "    </tr>\n",
       "    <tr>\n",
       "      <th>6</th>\n",
       "      <td>4919</td>\n",
       "      <td>BRAMHASAGAR</td>\n",
       "      <td>Wetland</td>\n",
       "      <td>ANDHRA PRADESH</td>\n",
       "      <td>24.5</td>\n",
       "      <td>5.75</td>\n",
       "      <td>0</td>\n",
       "      <td>494.5</td>\n",
       "      <td>1.60</td>\n",
       "      <td>0.495</td>\n",
       "      <td>183.5</td>\n",
       "      <td>406.0</td>\n",
       "    </tr>\n",
       "    <tr>\n",
       "      <th>7</th>\n",
       "      <td>4926</td>\n",
       "      <td>DALI TANK</td>\n",
       "      <td>Wetland</td>\n",
       "      <td>ANDHRA PRADESH</td>\n",
       "      <td>26.5</td>\n",
       "      <td>5.75</td>\n",
       "      <td>0</td>\n",
       "      <td>9612.0</td>\n",
       "      <td>2.00</td>\n",
       "      <td>1.600</td>\n",
       "      <td>9.5</td>\n",
       "      <td>76.0</td>\n",
       "    </tr>\n",
       "    <tr>\n",
       "      <th>8</th>\n",
       "      <td>4931</td>\n",
       "      <td>GACCHAKAYALA PORA (LAGOON)</td>\n",
       "      <td>Wetland</td>\n",
       "      <td>ANDHRA PRADESH</td>\n",
       "      <td>29.0</td>\n",
       "      <td>5.85</td>\n",
       "      <td>0</td>\n",
       "      <td>34565.0</td>\n",
       "      <td>2.50</td>\n",
       "      <td>1.745</td>\n",
       "      <td>9.5</td>\n",
       "      <td>92.0</td>\n",
       "    </tr>\n",
       "    <tr>\n",
       "      <th>9</th>\n",
       "      <td>4917</td>\n",
       "      <td>GANGINENI CHERUVU</td>\n",
       "      <td>Wetland</td>\n",
       "      <td>ANDHRA PRADESH</td>\n",
       "      <td>25.5</td>\n",
       "      <td>4.80</td>\n",
       "      <td>0</td>\n",
       "      <td>1064.0</td>\n",
       "      <td>2.85</td>\n",
       "      <td>2.795</td>\n",
       "      <td>425.0</td>\n",
       "      <td>830.0</td>\n",
       "    </tr>\n",
       "    <tr>\n",
       "      <th>10</th>\n",
       "      <td>4934</td>\n",
       "      <td>INTERU SWAMPS</td>\n",
       "      <td>Wetland</td>\n",
       "      <td>ANDHRA PRADESH</td>\n",
       "      <td>25.5</td>\n",
       "      <td>6.80</td>\n",
       "      <td>0</td>\n",
       "      <td>21485.0</td>\n",
       "      <td>2.60</td>\n",
       "      <td>1.460</td>\n",
       "      <td>3.0</td>\n",
       "      <td>106.5</td>\n",
       "    </tr>\n",
       "    <tr>\n",
       "      <th>11</th>\n",
       "      <td>4918</td>\n",
       "      <td>KATTAMANCHI CHERUVU</td>\n",
       "      <td>Wetland</td>\n",
       "      <td>ANDHRA PRADESH</td>\n",
       "      <td>26.5</td>\n",
       "      <td>4.95</td>\n",
       "      <td>0</td>\n",
       "      <td>1018.0</td>\n",
       "      <td>2.50</td>\n",
       "      <td>1.780</td>\n",
       "      <td>347.5</td>\n",
       "      <td>775.0</td>\n",
       "    </tr>\n",
       "    <tr>\n",
       "      <th>12</th>\n",
       "      <td>4933</td>\n",
       "      <td>KRISHNA MANGROVES</td>\n",
       "      <td>Wetland</td>\n",
       "      <td>ANDHRA PRADESH</td>\n",
       "      <td>26.0</td>\n",
       "      <td>5.65</td>\n",
       "      <td>0</td>\n",
       "      <td>29250.0</td>\n",
       "      <td>2.60</td>\n",
       "      <td>1.420</td>\n",
       "      <td>3.0</td>\n",
       "      <td>110.5</td>\n",
       "    </tr>\n",
       "    <tr>\n",
       "      <th>13</th>\n",
       "      <td>4916</td>\n",
       "      <td>MID PENNAR RESERVOIR</td>\n",
       "      <td>Wetland</td>\n",
       "      <td>ANDHRA PRADESH</td>\n",
       "      <td>24.0</td>\n",
       "      <td>5.80</td>\n",
       "      <td>0</td>\n",
       "      <td>453.0</td>\n",
       "      <td>1.35</td>\n",
       "      <td>1.450</td>\n",
       "      <td>230.0</td>\n",
       "      <td>439.5</td>\n",
       "    </tr>\n",
       "    <tr>\n",
       "      <th>14</th>\n",
       "      <td>4925</td>\n",
       "      <td>NAUPADA SWAMPS</td>\n",
       "      <td>Wetland</td>\n",
       "      <td>ANDHRA PRADESH</td>\n",
       "      <td>27.0</td>\n",
       "      <td>5.00</td>\n",
       "      <td>0</td>\n",
       "      <td>29415.0</td>\n",
       "      <td>2.95</td>\n",
       "      <td>3.580</td>\n",
       "      <td>17.5</td>\n",
       "      <td>551.0</td>\n",
       "    </tr>\n",
       "  </tbody>\n",
       "</table>\n",
       "</div>"
      ],
      "text/plain": [
       "    STN\\nCode                        Name of Monitoring Location  \\\n",
       "0        4368      KOLLERU LAKE KOKKIRAYALANKA (V), KAILALUR (M)   \n",
       "1        2353  KONDAKARLA-AAVA LAKE, PARAWADA PHARMA CITY, VI...   \n",
       "2        1790                       PULICATE LAKE , NELLORE DIST   \n",
       "3        4391      CHENGAMBAKAM TANK IN SRI CITY SEZ,\\nTIRUPATHI   \n",
       "4        4921           ANNAMAYYA PROJECT ON CHEYYERU\\nRESERVOIR   \n",
       "5        4936                               ANUMANAPALLE CHERUVU   \n",
       "6        4919                                        BRAMHASAGAR   \n",
       "7        4926                                          DALI TANK   \n",
       "8        4931                         GACCHAKAYALA PORA (LAGOON)   \n",
       "9        4917                                  GANGINENI CHERUVU   \n",
       "10       4934                                      INTERU SWAMPS   \n",
       "11       4918                                KATTAMANCHI CHERUVU   \n",
       "12       4933                                  KRISHNA MANGROVES   \n",
       "13       4916                               MID PENNAR RESERVOIR   \n",
       "14       4925                                     NAUPADA SWAMPS   \n",
       "\n",
       "   Type Water Body      State Name  TemperatureC_mean  \\\n",
       "0             LAKE  ANDHRA PRADESH               25.5   \n",
       "1             LAKE  ANDHRA PRADESH               27.5   \n",
       "2             LAKE  ANDHRA PRADESH               21.0   \n",
       "3             TANK  ANDHRA PRADESH               25.5   \n",
       "4          Wetland  ANDHRA PRADESH               25.5   \n",
       "5          Wetland  ANDHRA PRADESH               22.5   \n",
       "6          Wetland  ANDHRA PRADESH               24.5   \n",
       "7          Wetland  ANDHRA PRADESH               26.5   \n",
       "8          Wetland  ANDHRA PRADESH               29.0   \n",
       "9          Wetland  ANDHRA PRADESH               25.5   \n",
       "10         Wetland  ANDHRA PRADESH               25.5   \n",
       "11         Wetland  ANDHRA PRADESH               26.5   \n",
       "12         Wetland  ANDHRA PRADESH               26.0   \n",
       "13         Wetland  ANDHRA PRADESH               24.0   \n",
       "14         Wetland  ANDHRA PRADESH               27.0   \n",
       "\n",
       "    Dissolved Oxygen_mg/L_mean  pH_mean  Conductivity_mhos/cm_mean  \\\n",
       "0                         4.85        0                     2702.5   \n",
       "1                         4.90        0                      889.0   \n",
       "2                         5.10        0                    42450.0   \n",
       "3                         5.80        1                      328.0   \n",
       "4                         5.95        0                      615.0   \n",
       "5                         7.15        0                      239.0   \n",
       "6                         5.75        0                      494.5   \n",
       "7                         5.75        0                     9612.0   \n",
       "8                         5.85        0                    34565.0   \n",
       "9                         4.80        0                     1064.0   \n",
       "10                        6.80        0                    21485.0   \n",
       "11                        4.95        0                     1018.0   \n",
       "12                        5.65        0                    29250.0   \n",
       "13                        5.80        0                      453.0   \n",
       "14                        5.00        0                    29415.0   \n",
       "\n",
       "    BOD_mg/L_mean  Nitrate_N_mg/L_mean  Fecal_Coliform_MPN/100ml_mean  \\\n",
       "0            2.40                2.310                           15.0   \n",
       "1            3.25                2.165                           19.0   \n",
       "2            2.60                1.420                            3.0   \n",
       "3            1.75                1.320                          194.5   \n",
       "4            1.65                0.675                          166.0   \n",
       "5            1.70                1.105                            3.5   \n",
       "6            1.60                0.495                          183.5   \n",
       "7            2.00                1.600                            9.5   \n",
       "8            2.50                1.745                            9.5   \n",
       "9            2.85                2.795                          425.0   \n",
       "10           2.60                1.460                            3.0   \n",
       "11           2.50                1.780                          347.5   \n",
       "12           2.60                1.420                            3.0   \n",
       "13           1.35                1.450                          230.0   \n",
       "14           2.95                3.580                           17.5   \n",
       "\n",
       "    Total_Coliform_MPN/100ml_mean  \n",
       "0                           165.0  \n",
       "1                           195.0  \n",
       "2                            98.5  \n",
       "3                           359.5  \n",
       "4                           483.5  \n",
       "5                           106.5  \n",
       "6                           406.0  \n",
       "7                            76.0  \n",
       "8                            92.0  \n",
       "9                           830.0  \n",
       "10                          106.5  \n",
       "11                          775.0  \n",
       "12                          110.5  \n",
       "13                          439.5  \n",
       "14                          551.0  "
      ]
     },
     "execution_count": 5,
     "metadata": {},
     "output_type": "execute_result"
    }
   ],
   "source": [
    "#Become ph to binary (acid = 1 = ph < 7.25 and base = 0 = ph > 7.25)\n",
    "data_lakes_mean.loc[data_lakes_mean[\"pH_mean\"] <= 7.25 , \"pH_mean\"] = 1\n",
    "data_lakes_mean.loc[data_lakes_mean[\"pH_mean\"] > 7.25 , \"pH_mean\"] = 0\n",
    "data_lakes_mean[\"pH_mean\"]=data_lakes_mean[\"pH_mean\"].astype(\"int64\")\n",
    "data_lakes_mean.head(15)\n"
   ]
  },
  {
   "cell_type": "code",
   "execution_count": 6,
   "metadata": {},
   "outputs": [
    {
     "name": "stdout",
     "output_type": "stream",
     "text": [
      "<class 'pandas.core.frame.DataFrame'>\n",
      "RangeIndex: 542 entries, 0 to 541\n",
      "Data columns (total 12 columns):\n",
      " #   Column                         Non-Null Count  Dtype  \n",
      "---  ------                         --------------  -----  \n",
      " 0   STN\n",
      "Code                       542 non-null    int64  \n",
      " 1   Name of Monitoring Location    542 non-null    object \n",
      " 2   Type Water Body                542 non-null    object \n",
      " 3   State Name                     542 non-null    object \n",
      " 4   TemperatureC_mean              542 non-null    float64\n",
      " 5   Dissolved Oxygen_mg/L_mean     542 non-null    float64\n",
      " 6   pH_mean                        542 non-null    int64  \n",
      " 7   Conductivity_mhos/cm_mean      542 non-null    float64\n",
      " 8   BOD_mg/L_mean                  542 non-null    float64\n",
      " 9   Nitrate_N_mg/L_mean            542 non-null    float64\n",
      " 10  Fecal_Coliform_MPN/100ml_mean  542 non-null    float64\n",
      " 11  Total_Coliform_MPN/100ml_mean  542 non-null    float64\n",
      "dtypes: float64(7), int64(2), object(3)\n",
      "memory usage: 50.9+ KB\n"
     ]
    }
   ],
   "source": [
    "# Data info 2.0\n",
    "data_lakes_mean.info()"
   ]
  },
  {
   "cell_type": "code",
   "execution_count": 7,
   "metadata": {},
   "outputs": [
    {
     "data": {
      "text/plain": [
       "pH_mean\n",
       "0    385\n",
       "1    157\n",
       "dtype: int64"
      ]
     },
     "execution_count": 7,
     "metadata": {},
     "output_type": "execute_result"
    }
   ],
   "source": [
    "# Are the clases unbalanced?\n",
    "data_lakes_mean.groupby(\"pH_mean\").size()\n",
    "# The class 1 (acid) = 28.9%, whereas the class 0 (base) = 71.9%\n"
   ]
  },
  {
   "cell_type": "code",
   "execution_count": 8,
   "metadata": {},
   "outputs": [],
   "source": [
    "# Split in features and labels\n",
    "X = data_lakes_mean.drop([\"pH_mean\"], axis=1)\n",
    "X = data_lakes_mean.iloc[:,4:].values # Values important as a way to get ready the inputs for the model\n",
    "y = data_lakes_mean[\"pH_mean\"].values"
   ]
  },
  {
   "cell_type": "code",
   "execution_count": 9,
   "metadata": {},
   "outputs": [
    {
     "name": "stdout",
     "output_type": "stream",
     "text": [
      "[0 0 0 0 0 0 0 0 0 0 0 0 0 0 0 0 0 0 0 0 0 0 0 0 0 0 0 0 0 0 0 0 0 0 0 0 0\n",
      " 0 0 0 0 0 0 0 0 0 0 0 0 0 0 0 0 0 0 0 0 0 0 0 0 0 0 0 0 0 0 0 0 0 0 0 0 0\n",
      " 0 0 0 0 0 0 0 0 0 0 0 0 0 0 0 0 0 0 0 0 0 0 0 0 0 0 0 0 0 0 0 0 0 0 0 0 0\n",
      " 0 0 0 0 0 0 0 0 0 0 0 0 0 0 0 0 0 0 0 0 0 0 0 0 0 0 0 0 0 0 0 0 0 0 0 0 0\n",
      " 0 0 0 0 0 0 0 0 0 0 0 0 0 0 0 0 0 0 0 0 0 0 0 0 0 0 0 0 0 0 0 0 0 0 0 0 0\n",
      " 0 0 0 0 0 0 0 0 0 0 0 0 0 0 0 0 0 0 0 0 0 0 0 0 0 0 0 0 0 0 0 0 1 1 1 1 1\n",
      " 1 1 1 1 1 1 1 1 1 1 1 1 1 1 1 1 1 1 1 1 1 1 1 1 1 1 1 1 1 1 1 1 1 1 1 1 1\n",
      " 1 1 1 1 1 1 1 1 1 1 1 1 1 1 1 1 1 1 1 1 1 1 1 1 1 1 1 1 1 1 1 1 1 1 1 1 1\n",
      " 1 1 1 1 1 1 1 1 1 1 1 1 1 1 1 1 1 1 1 1 1 1 1 1 1 1 1 1 1 1 1 1 1 1 1 1 1\n",
      " 1 1 1 1 1 1 1 1 1 1 1 1 1 1 1 1 1 1 1 1 1 1 1 1 1 1 1 1 1 1 1 1 1 1 1 1 1\n",
      " 1 1 1 1 1 1 1 1 1 1 1 1 1 1 1 1 1 1 1 1 1 1 1 1 1 1 1 1 1 1 1 1 1 1 1 1 1\n",
      " 1 1 1 1 1 1 1 1 1 1 1 1 1 1 1 1 1 1 1 1]\n"
     ]
    }
   ],
   "source": [
    "#Under sampling the dataset\n",
    "from imblearn.combine import SMOTEENN\n",
    "sample = SMOTEENN(sampling_strategy=0.95)\n",
    "X_bal, y_bal = sample.fit_resample(X,y)\n",
    "print(y_bal)"
   ]
  },
  {
   "cell_type": "code",
   "execution_count": 10,
   "metadata": {},
   "outputs": [
    {
     "data": {
      "text/plain": [
       "pH_mean\n",
       "0    217\n",
       "1    210\n",
       "dtype: int64"
      ]
     },
     "execution_count": 10,
     "metadata": {},
     "output_type": "execute_result"
    }
   ],
   "source": [
    "# New dataset\n",
    "y_bal = pd.DataFrame(y_bal)\n",
    "y_bal.columns = ['pH_mean']\n",
    "y_bal.groupby(\"pH_mean\").size()\n",
    "# The new class 1 (acid) = 48.4%, whereas the class 0 (base) = 51.5%\n",
    "# Be careful when you are under or over sampling the dataset, because this behavior could be the real behavior in our dataset."
   ]
  },
  {
   "cell_type": "code",
   "execution_count": 11,
   "metadata": {},
   "outputs": [],
   "source": [
    "# First I need to split the data\n",
    "from sklearn.model_selection import train_test_split\n",
    "\n",
    "X_train, X_test, y_train, y_test = train_test_split(X_bal, y_bal, test_size = 0.2, random_state = 0)\n"
   ]
  },
  {
   "cell_type": "code",
   "execution_count": 12,
   "metadata": {},
   "outputs": [],
   "source": [
    "# Split Train between train and validate / 83 is the 20% of the balanced dataset\n",
    "X_val = X_train[:83]\n",
    "partial_x_train = X_train[83:]\n",
    "\n",
    "y_val = y_train[:83]\n",
    "partial_y_train = y_train[83:]"
   ]
  },
  {
   "cell_type": "code",
   "execution_count": 13,
   "metadata": {},
   "outputs": [
    {
     "data": {
      "text/html": [
       "<style>#sk-container-id-1 {color: black;background-color: white;}#sk-container-id-1 pre{padding: 0;}#sk-container-id-1 div.sk-toggleable {background-color: white;}#sk-container-id-1 label.sk-toggleable__label {cursor: pointer;display: block;width: 100%;margin-bottom: 0;padding: 0.3em;box-sizing: border-box;text-align: center;}#sk-container-id-1 label.sk-toggleable__label-arrow:before {content: \"▸\";float: left;margin-right: 0.25em;color: #696969;}#sk-container-id-1 label.sk-toggleable__label-arrow:hover:before {color: black;}#sk-container-id-1 div.sk-estimator:hover label.sk-toggleable__label-arrow:before {color: black;}#sk-container-id-1 div.sk-toggleable__content {max-height: 0;max-width: 0;overflow: hidden;text-align: left;background-color: #f0f8ff;}#sk-container-id-1 div.sk-toggleable__content pre {margin: 0.2em;color: black;border-radius: 0.25em;background-color: #f0f8ff;}#sk-container-id-1 input.sk-toggleable__control:checked~div.sk-toggleable__content {max-height: 200px;max-width: 100%;overflow: auto;}#sk-container-id-1 input.sk-toggleable__control:checked~label.sk-toggleable__label-arrow:before {content: \"▾\";}#sk-container-id-1 div.sk-estimator input.sk-toggleable__control:checked~label.sk-toggleable__label {background-color: #d4ebff;}#sk-container-id-1 div.sk-label input.sk-toggleable__control:checked~label.sk-toggleable__label {background-color: #d4ebff;}#sk-container-id-1 input.sk-hidden--visually {border: 0;clip: rect(1px 1px 1px 1px);clip: rect(1px, 1px, 1px, 1px);height: 1px;margin: -1px;overflow: hidden;padding: 0;position: absolute;width: 1px;}#sk-container-id-1 div.sk-estimator {font-family: monospace;background-color: #f0f8ff;border: 1px dotted black;border-radius: 0.25em;box-sizing: border-box;margin-bottom: 0.5em;}#sk-container-id-1 div.sk-estimator:hover {background-color: #d4ebff;}#sk-container-id-1 div.sk-parallel-item::after {content: \"\";width: 100%;border-bottom: 1px solid gray;flex-grow: 1;}#sk-container-id-1 div.sk-label:hover label.sk-toggleable__label {background-color: #d4ebff;}#sk-container-id-1 div.sk-serial::before {content: \"\";position: absolute;border-left: 1px solid gray;box-sizing: border-box;top: 0;bottom: 0;left: 50%;z-index: 0;}#sk-container-id-1 div.sk-serial {display: flex;flex-direction: column;align-items: center;background-color: white;padding-right: 0.2em;padding-left: 0.2em;position: relative;}#sk-container-id-1 div.sk-item {position: relative;z-index: 1;}#sk-container-id-1 div.sk-parallel {display: flex;align-items: stretch;justify-content: center;background-color: white;position: relative;}#sk-container-id-1 div.sk-item::before, #sk-container-id-1 div.sk-parallel-item::before {content: \"\";position: absolute;border-left: 1px solid gray;box-sizing: border-box;top: 0;bottom: 0;left: 50%;z-index: -1;}#sk-container-id-1 div.sk-parallel-item {display: flex;flex-direction: column;z-index: 1;position: relative;background-color: white;}#sk-container-id-1 div.sk-parallel-item:first-child::after {align-self: flex-end;width: 50%;}#sk-container-id-1 div.sk-parallel-item:last-child::after {align-self: flex-start;width: 50%;}#sk-container-id-1 div.sk-parallel-item:only-child::after {width: 0;}#sk-container-id-1 div.sk-dashed-wrapped {border: 1px dashed gray;margin: 0 0.4em 0.5em 0.4em;box-sizing: border-box;padding-bottom: 0.4em;background-color: white;}#sk-container-id-1 div.sk-label label {font-family: monospace;font-weight: bold;display: inline-block;line-height: 1.2em;}#sk-container-id-1 div.sk-label-container {text-align: center;}#sk-container-id-1 div.sk-container {/* jupyter's `normalize.less` sets `[hidden] { display: none; }` but bootstrap.min.css set `[hidden] { display: none !important; }` so we also need the `!important` here to be able to override the default hidden behavior on the sphinx rendered scikit-learn.org. See: https://github.com/scikit-learn/scikit-learn/issues/21755 */display: inline-block !important;position: relative;}#sk-container-id-1 div.sk-text-repr-fallback {display: none;}</style><div id=\"sk-container-id-1\" class=\"sk-top-container\"><div class=\"sk-text-repr-fallback\"><pre>PCA(n_components=3)</pre><b>In a Jupyter environment, please rerun this cell to show the HTML representation or trust the notebook. <br />On GitHub, the HTML representation is unable to render, please try loading this page with nbviewer.org.</b></div><div class=\"sk-container\" hidden><div class=\"sk-item\"><div class=\"sk-estimator sk-toggleable\"><input class=\"sk-toggleable__control sk-hidden--visually\" id=\"sk-estimator-id-1\" type=\"checkbox\" checked><label for=\"sk-estimator-id-1\" class=\"sk-toggleable__label sk-toggleable__label-arrow\">PCA</label><div class=\"sk-toggleable__content\"><pre>PCA(n_components=3)</pre></div></div></div></div></div>"
      ],
      "text/plain": [
       "PCA(n_components=3)"
      ]
     },
     "execution_count": 13,
     "metadata": {},
     "output_type": "execute_result"
    }
   ],
   "source": [
    "# I dont normalize due to binary, but I need apply PCA\n",
    "from sklearn.decomposition import PCA\n",
    "pca = PCA(n_components=3) # parametro opcional de numero de componentes\n",
    "pca.fit(partial_x_train) # aplicad aa datos de entrenamiento\n"
   ]
  },
  {
   "cell_type": "code",
   "execution_count": 14,
   "metadata": {},
   "outputs": [
    {
     "data": {
      "text/plain": [
       "array([9.82676333e-01, 1.73236665e-02, 1.23074169e-10])"
      ]
     },
     "execution_count": 14,
     "metadata": {},
     "output_type": "execute_result"
    }
   ],
   "source": [
    "# Number of information that contributes each component\n",
    "pca.explained_variance_ratio_ "
   ]
  },
  {
   "cell_type": "code",
   "execution_count": 15,
   "metadata": {},
   "outputs": [
    {
     "data": {
      "image/png": "[encoded data removed]",
      "text/plain": [
       "<Figure size 640x480 with 1 Axes>"
      ]
     },
     "metadata": {},
     "output_type": "display_data"
    }
   ],
   "source": [
    "# Understand the number of sufficient components\n",
    "plt.plot(range(len(pca.explained_variance_)), pca.explained_variance_ratio_)\n",
    "plt.show()"
   ]
  },
  {
   "cell_type": "code",
   "execution_count": 16,
   "metadata": {},
   "outputs": [],
   "source": [
    "# Apply the PCA to all our X features\n",
    "dt_train = pca.transform(partial_x_train)\n",
    "dt_test = pca.transform(X_test)\n",
    "dt_vali = pca.transform(X_val)"
   ]
  },
  {
   "cell_type": "code",
   "execution_count": 20,
   "metadata": {},
   "outputs": [
    {
     "name": "stderr",
     "output_type": "stream",
     "text": [
      "d:\\Barba\\Business\\Datascientist\\41Projects\\lakes_project\\venv\\lib\\site-packages\\sklearn\\utils\\validation.py:1111: DataConversionWarning: A column-vector y was passed when a 1d array was expected. Please change the shape of y to (n_samples, ), for example using ravel().\n",
      "  y = column_or_1d(y, warn=True)\n",
      "d:\\Barba\\Business\\Datascientist\\41Projects\\lakes_project\\venv\\lib\\site-packages\\sklearn\\linear_model\\_sag.py:350: ConvergenceWarning: The max_iter was reached which means the coef_ did not converge\n",
      "  warnings.warn(\n"
     ]
    }
   ],
   "source": [
    "# Binary classification model\n",
    "from sklearn.linear_model import ElasticNet, LogisticRegression\n",
    "logreg = LogisticRegression(penalty='elasticnet', solver=\"saga\", l1_ratio=0.5)\n",
    "logreg.fit(dt_train, partial_y_train)\n",
    "y_pred = logreg.predict(dt_test)"
   ]
  },
  {
   "cell_type": "code",
   "execution_count": 23,
   "metadata": {},
   "outputs": [
    {
     "name": "stdout",
     "output_type": "stream",
     "text": [
      "SCORE:  0.5060240963855421\n"
     ]
    }
   ],
   "source": [
    "# Score with test\n",
    "print(\"SCORE: \", logreg.score(dt_vali, y_val)) #/test"
   ]
  },
  {
   "cell_type": "code",
   "execution_count": 26,
   "metadata": {},
   "outputs": [
    {
     "name": "stdout",
     "output_type": "stream",
     "text": [
      "[[48  0]\n",
      " [37  1]]\n"
     ]
    }
   ],
   "source": [
    "# Confunsion Matrix\n",
    "from sklearn import metrics\n",
    "cnf_matrix = metrics.confusion_matrix(y_test,y_pred)\n",
    "print(cnf_matrix)"
   ]
  },
  {
   "cell_type": "code",
   "execution_count": 29,
   "metadata": {},
   "outputs": [
    {
     "data": {
      "text/plain": [
       "<AxesSubplot: >"
      ]
     },
     "execution_count": 29,
     "metadata": {},
     "output_type": "execute_result"
    },
    {
     "data": {
      "image/png": "[encoded data removed]",
      "text/plain": [
       "<Figure size 640x480 with 2 Axes>"
      ]
     },
     "metadata": {},
     "output_type": "display_data"
    }
   ],
   "source": [
    "# PreGraph\n",
    "class_names = [0,1]\n",
    "fig,ax = plt.subplots() \n",
    "tick_marks = np.arange(len(class_names)) \n",
    "plt.xticks(tick_marks, class_names)\n",
    "plt.yticks(tick_marks, class_names)\n",
    "\n",
    "# Graph\n",
    "sns.heatmap(pd.DataFrame(cnf_matrix), annot = True, cmap='Blues_r', fmt='g') # para ver si si lo hizo bien o no\n",
    "# ax.axis.set_label_position('top')\n",
    "# plt.tight_layout()\n",
    "# plt.title('Matriz de confusion', y=1.1)\n",
    "# plt.y_label('Etiqueta Actual')\n",
    "# plt.x_label(\"Etiqueta de Prediccion\")"
   ]
  },
  {
   "cell_type": "code",
   "execution_count": 25,
   "metadata": {},
   "outputs": [
    {
     "data": {
      "text/plain": [
       "0.5697674418604651"
      ]
     },
     "execution_count": 25,
     "metadata": {},
     "output_type": "execute_result"
    }
   ],
   "source": [
    "#Metrics with preidition\n",
    "metrics.accuracy_score(y_test,y_pred)"
   ]
  },
  {
   "cell_type": "code",
   "execution_count": 36,
   "metadata": {},
   "outputs": [
    {
     "name": "stdout",
     "output_type": "stream",
     "text": [
      "[0.57692308 0.46153846 0.61538462 0.53846154 0.38461538 0.65384615\n",
      " 0.57692308 0.5        0.64       0.56      ]\n",
      "0.5507692307692308\n"
     ]
    },
    {
     "name": "stderr",
     "output_type": "stream",
     "text": [
      "d:\\Barba\\Business\\Datascientist\\41Projects\\lakes_project\\venv\\lib\\site-packages\\sklearn\\utils\\validation.py:1111: DataConversionWarning: A column-vector y was passed when a 1d array was expected. Please change the shape of y to (n_samples, ), for example using ravel().\n",
      "  y = column_or_1d(y, warn=True)\n",
      "d:\\Barba\\Business\\Datascientist\\41Projects\\lakes_project\\venv\\lib\\site-packages\\sklearn\\linear_model\\_sag.py:350: ConvergenceWarning: The max_iter was reached which means the coef_ did not converge\n",
      "  warnings.warn(\n",
      "d:\\Barba\\Business\\Datascientist\\41Projects\\lakes_project\\venv\\lib\\site-packages\\sklearn\\utils\\validation.py:1111: DataConversionWarning: A column-vector y was passed when a 1d array was expected. Please change the shape of y to (n_samples, ), for example using ravel().\n",
      "  y = column_or_1d(y, warn=True)\n",
      "d:\\Barba\\Business\\Datascientist\\41Projects\\lakes_project\\venv\\lib\\site-packages\\sklearn\\linear_model\\_sag.py:350: ConvergenceWarning: The max_iter was reached which means the coef_ did not converge\n",
      "  warnings.warn(\n",
      "d:\\Barba\\Business\\Datascientist\\41Projects\\lakes_project\\venv\\lib\\site-packages\\sklearn\\utils\\validation.py:1111: DataConversionWarning: A column-vector y was passed when a 1d array was expected. Please change the shape of y to (n_samples, ), for example using ravel().\n",
      "  y = column_or_1d(y, warn=True)\n",
      "d:\\Barba\\Business\\Datascientist\\41Projects\\lakes_project\\venv\\lib\\site-packages\\sklearn\\linear_model\\_sag.py:350: ConvergenceWarning: The max_iter was reached which means the coef_ did not converge\n",
      "  warnings.warn(\n",
      "d:\\Barba\\Business\\Datascientist\\41Projects\\lakes_project\\venv\\lib\\site-packages\\sklearn\\utils\\validation.py:1111: DataConversionWarning: A column-vector y was passed when a 1d array was expected. Please change the shape of y to (n_samples, ), for example using ravel().\n",
      "  y = column_or_1d(y, warn=True)\n",
      "d:\\Barba\\Business\\Datascientist\\41Projects\\lakes_project\\venv\\lib\\site-packages\\sklearn\\linear_model\\_sag.py:350: ConvergenceWarning: The max_iter was reached which means the coef_ did not converge\n",
      "  warnings.warn(\n",
      "d:\\Barba\\Business\\Datascientist\\41Projects\\lakes_project\\venv\\lib\\site-packages\\sklearn\\utils\\validation.py:1111: DataConversionWarning: A column-vector y was passed when a 1d array was expected. Please change the shape of y to (n_samples, ), for example using ravel().\n",
      "  y = column_or_1d(y, warn=True)\n",
      "d:\\Barba\\Business\\Datascientist\\41Projects\\lakes_project\\venv\\lib\\site-packages\\sklearn\\linear_model\\_sag.py:350: ConvergenceWarning: The max_iter was reached which means the coef_ did not converge\n",
      "  warnings.warn(\n",
      "d:\\Barba\\Business\\Datascientist\\41Projects\\lakes_project\\venv\\lib\\site-packages\\sklearn\\utils\\validation.py:1111: DataConversionWarning: A column-vector y was passed when a 1d array was expected. Please change the shape of y to (n_samples, ), for example using ravel().\n",
      "  y = column_or_1d(y, warn=True)\n",
      "d:\\Barba\\Business\\Datascientist\\41Projects\\lakes_project\\venv\\lib\\site-packages\\sklearn\\linear_model\\_sag.py:350: ConvergenceWarning: The max_iter was reached which means the coef_ did not converge\n",
      "  warnings.warn(\n",
      "d:\\Barba\\Business\\Datascientist\\41Projects\\lakes_project\\venv\\lib\\site-packages\\sklearn\\utils\\validation.py:1111: DataConversionWarning: A column-vector y was passed when a 1d array was expected. Please change the shape of y to (n_samples, ), for example using ravel().\n",
      "  y = column_or_1d(y, warn=True)\n",
      "d:\\Barba\\Business\\Datascientist\\41Projects\\lakes_project\\venv\\lib\\site-packages\\sklearn\\linear_model\\_sag.py:350: ConvergenceWarning: The max_iter was reached which means the coef_ did not converge\n",
      "  warnings.warn(\n",
      "d:\\Barba\\Business\\Datascientist\\41Projects\\lakes_project\\venv\\lib\\site-packages\\sklearn\\utils\\validation.py:1111: DataConversionWarning: A column-vector y was passed when a 1d array was expected. Please change the shape of y to (n_samples, ), for example using ravel().\n",
      "  y = column_or_1d(y, warn=True)\n",
      "d:\\Barba\\Business\\Datascientist\\41Projects\\lakes_project\\venv\\lib\\site-packages\\sklearn\\linear_model\\_sag.py:350: ConvergenceWarning: The max_iter was reached which means the coef_ did not converge\n",
      "  warnings.warn(\n",
      "d:\\Barba\\Business\\Datascientist\\41Projects\\lakes_project\\venv\\lib\\site-packages\\sklearn\\utils\\validation.py:1111: DataConversionWarning: A column-vector y was passed when a 1d array was expected. Please change the shape of y to (n_samples, ), for example using ravel().\n",
      "  y = column_or_1d(y, warn=True)\n",
      "d:\\Barba\\Business\\Datascientist\\41Projects\\lakes_project\\venv\\lib\\site-packages\\sklearn\\linear_model\\_sag.py:350: ConvergenceWarning: The max_iter was reached which means the coef_ did not converge\n",
      "  warnings.warn(\n",
      "d:\\Barba\\Business\\Datascientist\\41Projects\\lakes_project\\venv\\lib\\site-packages\\sklearn\\utils\\validation.py:1111: DataConversionWarning: A column-vector y was passed when a 1d array was expected. Please change the shape of y to (n_samples, ), for example using ravel().\n",
      "  y = column_or_1d(y, warn=True)\n",
      "d:\\Barba\\Business\\Datascientist\\41Projects\\lakes_project\\venv\\lib\\site-packages\\sklearn\\linear_model\\_sag.py:350: ConvergenceWarning: The max_iter was reached which means the coef_ did not converge\n",
      "  warnings.warn(\n"
     ]
    }
   ],
   "source": [
    "# In general the model doesn't have a great performance, it's probably due to the not strong correlation between the variables (see EDA)\n",
    "# Cross validation\n",
    "from sklearn.model_selection import KFold\n",
    "from sklearn.model_selection import cross_val_score \n",
    "kfold_validacion=KFold(10)\n",
    "\n",
    "results=cross_val_score(logreg, dt_train, partial_y_train, cv=kfold_validacion)\n",
    "print(results)\n",
    "print(results.mean())\n"
   ]
  },
  {
   "cell_type": "code",
   "execution_count": 39,
   "metadata": {},
   "outputs": [
    {
     "name": "stdout",
     "output_type": "stream",
     "text": [
      "8\n"
     ]
    }
   ],
   "source": [
    "# Final analysis\n",
    "from sklearn.metrics import cohen_kappa_score\n",
    "y_pred2 = logreg.predict(dt_vali)\n",
    "cohe_score = cohen_kappa_score(y_pred2,y_val)\n",
    "print(round(cohe_score*100)) \n",
    "# The result with the cohe and the sample balanced is smaller."
   ]
  }
 ],
 "metadata": {
  "kernelspec": {
   "display_name": "Python 3.10.7 ('venv': venv)",
   "language": "python",
   "name": "python3"
  },
  "language_info": {
   "codemirror_mode": {
    "name": "ipython",
    "version": 3
   },
   "file_extension": ".py",
   "mimetype": "text/x-python",
   "name": "python",
   "nbconvert_exporter": "python",
   "pygments_lexer": "ipython3",
   "version": "3.10.7"
  },
  "orig_nbformat": 4,
  "vscode": {
   "interpreter": {
    "hash": "42af04df6db3015fa2d07062fb5b442d6aa7536a70e5fb170bc7dfd84eb3c22a"
   }
  }
 },
 "nbformat": 4,
 "nbformat_minor": 2
}
